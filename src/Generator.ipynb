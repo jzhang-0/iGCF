{
 "cells": [
  {
   "cell_type": "code",
   "execution_count": 1,
   "metadata": {},
   "outputs": [
    {
     "name": "stdout",
     "output_type": "stream",
     "text": [
      "make directory model/GCNICF_LVI_dir/\n"
     ]
    }
   ],
   "source": [
    "from code_generator import *\n",
    "\n",
    "add_dir(\"GCNICF_LVI\")\n",
    "\n",
    "\n",
    "def addf(s):\n",
    "    if s[0] == \"\\\"\" and s[-1] == \"\\\"\":\n",
    "        pass\n",
    "    else:\n",
    "        s = \"\\\"\" + s + \"\\\"\"\n",
    "    return s\n",
    "\n",
    "def generator_temp(arg_s):\n",
    "    file = \"file\"\n",
    "    temp = \"\"\"\n",
    "            {\n",
    "                \"name\": \"debug \",\n",
    "                \"type\": \"python\",\n",
    "                \"request\": \"launch\",\n",
    "                \"program\": \"${file}\",\n",
    "                \"console\": \"integratedTerminal\",\n",
    "                \"justMyCode\": true,\n",
    "                \"args\": [\n",
    "                    arg_s\n",
    "                ],\n",
    "            },\n",
    "            \"\"\"\n",
    "    return temp.replace(\"arg_s\", arg_s)\n",
    "\n",
    "def print_debug_temp(arg):\n",
    "    s1 = (arg.split(\"\\\n",
    "    \"))\n",
    "\n",
    "    arg_s = \"\"\n",
    "    for s in s1:\n",
    "        ss = s.split(\" \")\n",
    "        if len(ss) == 2:\n",
    "            arg_s += addf(ss[0]) + \",\\n\\t\\t\\t\\t\\t\"+ addf(ss[1]) + \",\\n\\t\\t\\t\\t\\t\"\n",
    "    \n",
    "    print(generator_temp(arg_s))"
   ]
  },
  {
   "cell_type": "code",
   "execution_count": 63,
   "metadata": {},
   "outputs": [],
   "source": [
    "# example\n",
    "# arg = '''\n",
    "#     -m \"NeuralUCB\"\\\n",
    "#     -N \"BT\"\\\n",
    "#     --datan \"mnist\"\\\n",
    "#     --cuda 0\\\n",
    "#     --exp_id \"3.3-BT-v_${v}\"\\\n",
    "#     --explore_v ${v}\\\n",
    "#     --lr ${lr}\\\n",
    "#     -E \"UCB-typed\"'''\n"
   ]
  },
  {
   "cell_type": "code",
   "execution_count": 2,
   "metadata": {},
   "outputs": [
    {
     "name": "stdout",
     "output_type": "stream",
     "text": [
      "\n",
      "            {\n",
      "                \"name\": \"debug \",\n",
      "                \"type\": \"python\",\n",
      "                \"request\": \"launch\",\n",
      "                \"program\": \"${file}\",\n",
      "                \"console\": \"integratedTerminal\",\n",
      "                \"justMyCode\": true,\n",
      "                \"args\": [\n",
      "                    \"--exp_id\",\n",
      "\t\t\t\t\t\"test\",\n",
      "\t\t\t\t\t\"--datan\",\n",
      "\t\t\t\t\t\"ml-1m\",\n",
      "\t\t\t\t\t\"-d\",\n",
      "\t\t\t\t\t\"20\",\n",
      "\t\t\t\t\t\n",
      "                ],\n",
      "            },\n",
      "            \n"
     ]
    }
   ],
   "source": [
    "arg='''\n",
    "    --exp_id test\\\n",
    "    --datan ml-1m \\\n",
    "    -m Random\\\n",
    "    -d 20 \\\n",
    "    -v 1 \\\n",
    "    -E UCB \\\n",
    "    --cuda 7 '''\n",
    "print_debug_temp(arg)"
   ]
  }
 ],
 "metadata": {
  "kernelspec": {
   "display_name": "base",
   "language": "python",
   "name": "python3"
  },
  "language_info": {
   "codemirror_mode": {
    "name": "ipython",
    "version": 3
   },
   "file_extension": ".py",
   "mimetype": "text/x-python",
   "name": "python",
   "nbconvert_exporter": "python",
   "pygments_lexer": "ipython3",
   "version": "3.8.5"
  },
  "orig_nbformat": 4,
  "vscode": {
   "interpreter": {
    "hash": "25fc654bf82564ad992ec16430a511268a28637c771f42b3adb4e87730eb4a5c"
   }
  }
 },
 "nbformat": 4,
 "nbformat_minor": 2
}
